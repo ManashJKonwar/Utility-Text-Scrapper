{
 "cells": [
  {
   "attachments": {},
   "cell_type": "markdown",
   "metadata": {},
   "source": [
    "# **HOW TO USE:** \n",
    "This notebook will provide you an example as to how you can quickly utilize this scrapper and its associated functionalities"
   ]
  },
  {
   "attachments": {},
   "cell_type": "markdown",
   "metadata": {},
   "source": [
    "## Generic Steps (Reading urls)"
   ]
  },
  {
   "cell_type": "code",
   "execution_count": 1,
   "metadata": {},
   "outputs": [
    {
     "data": {
      "text/plain": [
       "500"
      ]
     },
     "execution_count": 1,
     "metadata": {},
     "output_type": "execute_result"
    }
   ],
   "source": [
    "# Importing libraries\n",
    "import os\n",
    "import pandas as pd\n",
    "\n",
    "pd.set_option(\"display.max_rows\", 600)\n",
    "pd.set_option(\"display.max_columns\", 500)\n",
    "pd.set_option(\"max_colwidth\", 400)\n",
    "\n",
    "# Read the example data\n",
    "data = pd.read_csv(os.path.join('..', 'data', 'url_data.csv')).sample(500, random_state=42)\n",
    "\n",
    "url_list = data.URLS.to_list()\n",
    "len(url_list)"
   ]
  },
  {
   "cell_type": "code",
   "execution_count": 2,
   "metadata": {},
   "outputs": [
    {
     "data": {
      "text/plain": [
       "'c:\\\\Users\\\\manash.jyoti.konwar\\\\Documents\\\\AI_Random_Projects\\\\Utility-Text-Scrapper'"
      ]
     },
     "execution_count": 2,
     "metadata": {},
     "output_type": "execute_result"
    }
   ],
   "source": [
    "os.chdir(os.path.dirname(os.getcwd()))\n",
    "os.getcwd()"
   ]
  },
  {
   "attachments": {},
   "cell_type": "markdown",
   "metadata": {},
   "source": [
    "## Module Level Execution"
   ]
  },
  {
   "cell_type": "code",
   "execution_count": 3,
   "metadata": {},
   "outputs": [],
   "source": [
    "# Importing Text Scrapper Module\n",
    "from url_entrypoint import URLValidator, URLScrapper\n",
    "\n",
    "# Importing Concurrent Thread Executor\n",
    "from multiprocessing import cpu_count"
   ]
  },
  {
   "cell_type": "code",
   "execution_count": 4,
   "metadata": {},
   "outputs": [
    {
     "name": "stdout",
     "output_type": "stream",
     "text": [
      "CPU times: total: 0 ns\n",
      "Wall time: 0 ns\n"
     ]
    },
    {
     "name": "stderr",
     "output_type": "stream",
     "text": [
      "100%|██████████| 500/500 [00:54<00:00,  9.10it/s]\n"
     ]
    }
   ],
   "source": [
    "%time\n",
    "\n",
    "# Running Validator\n",
    "validator_instance = URLValidator(url_list=url_list, no_of_workers=2*cpu_count())\n",
    "validator_instance.run_validation()"
   ]
  },
  {
   "cell_type": "code",
   "execution_count": 5,
   "metadata": {},
   "outputs": [
    {
     "name": "stdout",
     "output_type": "stream",
     "text": [
      "39 links are active\n",
      "447 links are inactive\n",
      "14 links are not reachable / working\n"
     ]
    }
   ],
   "source": [
    "print(f'{len(validator_instance.get_active_urls)} links are active')\n",
    "print(f'{len(validator_instance.get_inactive_urls)} links are inactive')\n",
    "print(f'{len(validator_instance.get_unreachable_links)} links are not reachable / working')"
   ]
  },
  {
   "cell_type": "code",
   "execution_count": 6,
   "metadata": {},
   "outputs": [
    {
     "name": "stdout",
     "output_type": "stream",
     "text": [
      "CPU times: total: 0 ns\n",
      "Wall time: 0 ns\n"
     ]
    },
    {
     "name": "stderr",
     "output_type": "stream",
     "text": [
      "100%|██████████| 39/39 [00:08<00:00,  4.54it/s]\n"
     ]
    }
   ],
   "source": [
    "%time\n",
    "\n",
    "# Running Scrapper\n",
    "scrapping_instance = URLScrapper(url_list=validator_instance.get_active_urls, no_of_workers=2*cpu_count())\n",
    "scrapping_instance.run_scrapping()"
   ]
  },
  {
   "cell_type": "code",
   "execution_count": 7,
   "metadata": {},
   "outputs": [
    {
     "data": {
      "text/html": [
       "<div>\n",
       "<style scoped>\n",
       "    .dataframe tbody tr th:only-of-type {\n",
       "        vertical-align: middle;\n",
       "    }\n",
       "\n",
       "    .dataframe tbody tr th {\n",
       "        vertical-align: top;\n",
       "    }\n",
       "\n",
       "    .dataframe thead th {\n",
       "        text-align: right;\n",
       "    }\n",
       "</style>\n",
       "<table border=\"1\" class=\"dataframe\">\n",
       "  <thead>\n",
       "    <tr style=\"text-align: right;\">\n",
       "      <th></th>\n",
       "      <th>url_id</th>\n",
       "      <th>url</th>\n",
       "      <th>text</th>\n",
       "      <th>title</th>\n",
       "      <th>author</th>\n",
       "      <th>hostname</th>\n",
       "      <th>date</th>\n",
       "      <th>categories</th>\n",
       "    </tr>\n",
       "  </thead>\n",
       "  <tbody>\n",
       "    <tr>\n",
       "      <th>0</th>\n",
       "      <td>0</td>\n",
       "      <td>HTTPS://ADWAREREMOVAL.INFO/WIN32-SPY-NUMANDO-L/</td>\n",
       "      <td>The Win32/Spy.Numando.L is considered dangerous by lots of security experts. When this infection is active, you may notice unwanted processes in Task Manager list. In this case, it is adviced to scan your computer with GridinSoft Anti-Malware.\\nGridinsoft Anti-Malware\\nRemoving PC viruses manually may take hours and may damage your PC in the process. We recommend using GridinSoft Anti-Malware ...</td>\n",
       "      <td>Win32/Spy.Numando.L removal guide – Adware Reports</td>\n",
       "      <td>Paul Valéry</td>\n",
       "      <td>adwareremoval.info</td>\n",
       "      <td>2020-10-18</td>\n",
       "      <td>Spy</td>\n",
       "    </tr>\n",
       "    <tr>\n",
       "      <th>1</th>\n",
       "      <td>1</td>\n",
       "      <td>HTTPS://ADWAREREMOVAL.INFO/ULISE-120961/</td>\n",
       "      <td>The Ulise.120961 is considered dangerous by lots of security experts. When this infection is active, you may notice unwanted processes in Task Manager list. In this case, it is adviced to scan your computer with GridinSoft Anti-Malware.\\nGridinsoft Anti-Malware\\nRemoving PC viruses manually may take hours and may damage your PC in the process. We recommend using GridinSoft Anti-Malware for vir...</td>\n",
       "      <td>Ulise.120961 (file analysis) – Adware Reports</td>\n",
       "      <td>Paul Valéry</td>\n",
       "      <td>adwareremoval.info</td>\n",
       "      <td>2020-10-13</td>\n",
       "      <td>Malware</td>\n",
       "    </tr>\n",
       "    <tr>\n",
       "      <th>2</th>\n",
       "      <td>2</td>\n",
       "      <td>HTTPS://FINANCE.YAHOO.COM/NEWS/ALTRIA-ABANDONS-FULL-OUTLOOK-HALTS-112713091.HTML</td>\n",
       "      <td>NaN</td>\n",
       "      <td>NaN</td>\n",
       "      <td>NaN</td>\n",
       "      <td>NaN</td>\n",
       "      <td>NaN</td>\n",
       "      <td>NaN</td>\n",
       "    </tr>\n",
       "    <tr>\n",
       "      <th>3</th>\n",
       "      <td>3</td>\n",
       "      <td>HTTPS://WWW.BIZJOURNALS.COM/PRNEWSWIRE/PRESS_RELEASES/2018/12/17/DC05175</td>\n",
       "      <td></td>\n",
       "      <td>NaN</td>\n",
       "      <td>NaN</td>\n",
       "      <td>NaN</td>\n",
       "      <td>NaN</td>\n",
       "      <td>NaN</td>\n",
       "    </tr>\n",
       "    <tr>\n",
       "      <th>4</th>\n",
       "      <td>4</td>\n",
       "      <td>HTTPS://WWW.KRISTENLOURIE.COM/VAPE-SHOP-IN-NOTTINGHAM-UK/</td>\n",
       "      <td>Author Bio\\nEkaterina Mironova\\nAuthor Biograhy: Ekaterina Mironova is a co-founder of CBD Life Mag and an avid blogger on the Hemp, CBD and fashion subjects. Ekaterina is also on the panel of the CBD reviewers and she most enjoys CBD gummies. Ekaterina has developed a real interest in CBD products after she started taking CBD tincture oil to help her ease her anxiety that was part-and-parcel ...</td>\n",
       "      <td>Vape Shop in Nottingham, UK - Kristen Lourie</td>\n",
       "      <td>Admin</td>\n",
       "      <td>kristenlourie.com</td>\n",
       "      <td>2021-03-28</td>\n",
       "      <td>Uncategorized</td>\n",
       "    </tr>\n",
       "  </tbody>\n",
       "</table>\n",
       "</div>"
      ],
      "text/plain": [
       "   url_id  \\\n",
       "0       0   \n",
       "1       1   \n",
       "2       2   \n",
       "3       3   \n",
       "4       4   \n",
       "\n",
       "                                                                                url  \\\n",
       "0                                   HTTPS://ADWAREREMOVAL.INFO/WIN32-SPY-NUMANDO-L/   \n",
       "1                                          HTTPS://ADWAREREMOVAL.INFO/ULISE-120961/   \n",
       "2  HTTPS://FINANCE.YAHOO.COM/NEWS/ALTRIA-ABANDONS-FULL-OUTLOOK-HALTS-112713091.HTML   \n",
       "3          HTTPS://WWW.BIZJOURNALS.COM/PRNEWSWIRE/PRESS_RELEASES/2018/12/17/DC05175   \n",
       "4                         HTTPS://WWW.KRISTENLOURIE.COM/VAPE-SHOP-IN-NOTTINGHAM-UK/   \n",
       "\n",
       "                                                                                                                                                                                                                                                                                                                                                                                                              text  \\\n",
       "0  The Win32/Spy.Numando.L is considered dangerous by lots of security experts. When this infection is active, you may notice unwanted processes in Task Manager list. In this case, it is adviced to scan your computer with GridinSoft Anti-Malware.\\nGridinsoft Anti-Malware\\nRemoving PC viruses manually may take hours and may damage your PC in the process. We recommend using GridinSoft Anti-Malware ...   \n",
       "1  The Ulise.120961 is considered dangerous by lots of security experts. When this infection is active, you may notice unwanted processes in Task Manager list. In this case, it is adviced to scan your computer with GridinSoft Anti-Malware.\\nGridinsoft Anti-Malware\\nRemoving PC viruses manually may take hours and may damage your PC in the process. We recommend using GridinSoft Anti-Malware for vir...   \n",
       "2                                                                                                                                                                                                                                                                                                                                                                                                              NaN   \n",
       "3                                                                                                                                                                                                                                                                                                                                                                                                                    \n",
       "4  Author Bio\\nEkaterina Mironova\\nAuthor Biograhy: Ekaterina Mironova is a co-founder of CBD Life Mag and an avid blogger on the Hemp, CBD and fashion subjects. Ekaterina is also on the panel of the CBD reviewers and she most enjoys CBD gummies. Ekaterina has developed a real interest in CBD products after she started taking CBD tincture oil to help her ease her anxiety that was part-and-parcel ...   \n",
       "\n",
       "                                                title       author  \\\n",
       "0  Win32/Spy.Numando.L removal guide – Adware Reports  Paul Valéry   \n",
       "1       Ulise.120961 (file analysis) – Adware Reports  Paul Valéry   \n",
       "2                                                 NaN          NaN   \n",
       "3                                                 NaN          NaN   \n",
       "4        Vape Shop in Nottingham, UK - Kristen Lourie        Admin   \n",
       "\n",
       "             hostname        date     categories  \n",
       "0  adwareremoval.info  2020-10-18            Spy  \n",
       "1  adwareremoval.info  2020-10-13        Malware  \n",
       "2                 NaN         NaN            NaN  \n",
       "3                 NaN         NaN            NaN  \n",
       "4   kristenlourie.com  2021-03-28  Uncategorized  "
      ]
     },
     "execution_count": 7,
     "metadata": {},
     "output_type": "execute_result"
    }
   ],
   "source": [
    "scrapping_instance.get_scrapped_df.head(5)"
   ]
  },
  {
   "attachments": {},
   "cell_type": "markdown",
   "metadata": {},
   "source": [
    "## Exploring Results"
   ]
  },
  {
   "attachments": {},
   "cell_type": "markdown",
   "metadata": {},
   "source": [
    "### Metadata Extracted\n",
    "\n",
    "Metadata:  \n",
    "1. URL unique ids  \n",
    "2. URL  \n",
    "3. Text  \n",
    "4. Title  \n",
    "5. Author  \n",
    "6. Hostname  \n",
    "7. Date  \n",
    "8. Categories"
   ]
  },
  {
   "cell_type": "code",
   "execution_count": 8,
   "metadata": {},
   "outputs": [
    {
     "data": {
      "text/plain": [
       "Index(['url_id', 'url', 'text', 'title', 'author', 'hostname', 'date',\n",
       "       'categories'],\n",
       "      dtype='object')"
      ]
     },
     "execution_count": 8,
     "metadata": {},
     "output_type": "execute_result"
    }
   ],
   "source": [
    "scrapping_instance.get_scrapped_df.columns"
   ]
  },
  {
   "attachments": {},
   "cell_type": "markdown",
   "metadata": {},
   "source": [
    "### Text Extracted\n",
    "\n",
    "Able to scrap different languages and is not limited to English only."
   ]
  },
  {
   "cell_type": "code",
   "execution_count": 9,
   "metadata": {},
   "outputs": [
    {
     "data": {
      "text/plain": [
       "'ಫೇಸ್ಬುಕ್ ನಲ್ಲಿ WBIR Channel 10 ಕುರಿತು ಇನ್ನಷ್ಟು ನೋಡಿ\\nಫೇಸ್ಬುಕ್ ನಲ್ಲಿ WBIR Channel 10 ಕುರಿತು ಇನ್ನಷ್ಟು ನೋಡಿ\\nಹೊಸ ಖಾತೆಯನ್ನು ರಚಿಸಿ\\nಅಥವಾ\\nಪುಟದ ಇತ್ತೀಚಿನ ಪೋಸ್ಟ್\\nThe change matters because rural and urban areas often qualify for d...ifferent types of federal funding for transportation, housing, health care and education. ಇನ್ನಷ್ಟು ನೋಡಿ\\nFormer Tennessee quarterback Josh Dobbs threw the first NFL touchdow...n of his career on Thursday night against the Dallas Cowboys in the third quarter. ಇನ್ನಷ್ಟು ನೋಡಿ\\nPresident Joe Biden on Thursday signed a $1.7 trillion spending bill... that will keep the federal government operating through the end of the federal budget year in September 2023, and provide tens of billions of dollars in new aid to Ukraine for its fight against the Russian military. ಇನ್ನಷ್ಟು ನೋಡಿ'"
      ]
     },
     "execution_count": 9,
     "metadata": {},
     "output_type": "execute_result"
    }
   ],
   "source": [
    "scrapping_instance.get_scrapped_df.iloc[5].text"
   ]
  }
 ],
 "metadata": {
  "kernelspec": {
   "display_name": "textScrappingVenv",
   "language": "python",
   "name": "python3"
  },
  "language_info": {
   "codemirror_mode": {
    "name": "ipython",
    "version": 3
   },
   "file_extension": ".py",
   "mimetype": "text/x-python",
   "name": "python",
   "nbconvert_exporter": "python",
   "pygments_lexer": "ipython3",
   "version": "3.9.13"
  },
  "orig_nbformat": 4,
  "vscode": {
   "interpreter": {
    "hash": "3b50a144a5476b4324b33fd510c11b508a2e50890e5794b0d534fc491cf93ed3"
   }
  }
 },
 "nbformat": 4,
 "nbformat_minor": 2
}
